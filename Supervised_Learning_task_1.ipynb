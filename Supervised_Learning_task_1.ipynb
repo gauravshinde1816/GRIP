{
  "nbformat": 4,
  "nbformat_minor": 0,
  "metadata": {
    "colab": {
      "name": "Supervised_Learning_task_1.ipynb",
      "provenance": [],
      "toc_visible": true
    },
    "kernelspec": {
      "name": "python3",
      "display_name": "Python 3"
    }
  },
  "cells": [
    {
      "cell_type": "markdown",
      "metadata": {
        "id": "gxvV0pwcC5YX",
        "colab_type": "text"
      },
      "source": [
        "#Task-2:   Exploring Supervised Learning"
      ]
    },
    {
      "cell_type": "markdown",
      "metadata": {
        "id": "_krB01c6AJ8A",
        "colab_type": "text"
      },
      "source": [
        "**Problem Statement:**\n",
        "Predicting the marks of the students based on the no hours they study.\n"
      ]
    },
    {
      "cell_type": "markdown",
      "metadata": {
        "id": "7J_RkvWOAo0X",
        "colab_type": "text"
      },
      "source": [
        "#Importing Necessary Libraries"
      ]
    },
    {
      "cell_type": "code",
      "metadata": {
        "id": "t7x-5_UcABHp",
        "colab_type": "code",
        "colab": {
          "base_uri": "https://localhost:8080/",
          "height": 74
        },
        "outputId": "a60de1d3-ba12-4560-fa94-74ef0ca17399"
      },
      "source": [
        "import pandas as pd\n",
        "import numpy as np\n",
        "import matplotlib.pyplot as plt\n",
        "import seaborn as sns\n",
        "%matplotlib inline"
      ],
      "execution_count": 1,
      "outputs": [
        {
          "output_type": "stream",
          "text": [
            "/usr/local/lib/python3.6/dist-packages/statsmodels/tools/_testing.py:19: FutureWarning: pandas.util.testing is deprecated. Use the functions in the public API at pandas.testing instead.\n",
            "  import pandas.util.testing as tm\n"
          ],
          "name": "stderr"
        }
      ]
    },
    {
      "cell_type": "markdown",
      "metadata": {
        "id": "mrvczXPzA8iK",
        "colab_type": "text"
      },
      "source": [
        "#Overview of dataset"
      ]
    },
    {
      "cell_type": "code",
      "metadata": {
        "id": "qVqFqI-LAxRm",
        "colab_type": "code",
        "colab": {
          "base_uri": "https://localhost:8080/",
          "height": 206
        },
        "outputId": "b9f90669-4147-449b-ebe7-cab81f855110"
      },
      "source": [
        "url = \"http://bit.ly/w-data\"\n",
        "data = pd.read_csv(url)\n",
        "data.head()"
      ],
      "execution_count": 2,
      "outputs": [
        {
          "output_type": "execute_result",
          "data": {
            "text/html": [
              "<div>\n",
              "<style scoped>\n",
              "    .dataframe tbody tr th:only-of-type {\n",
              "        vertical-align: middle;\n",
              "    }\n",
              "\n",
              "    .dataframe tbody tr th {\n",
              "        vertical-align: top;\n",
              "    }\n",
              "\n",
              "    .dataframe thead th {\n",
              "        text-align: right;\n",
              "    }\n",
              "</style>\n",
              "<table border=\"1\" class=\"dataframe\">\n",
              "  <thead>\n",
              "    <tr style=\"text-align: right;\">\n",
              "      <th></th>\n",
              "      <th>Hours</th>\n",
              "      <th>Scores</th>\n",
              "    </tr>\n",
              "  </thead>\n",
              "  <tbody>\n",
              "    <tr>\n",
              "      <th>0</th>\n",
              "      <td>2.5</td>\n",
              "      <td>21</td>\n",
              "    </tr>\n",
              "    <tr>\n",
              "      <th>1</th>\n",
              "      <td>5.1</td>\n",
              "      <td>47</td>\n",
              "    </tr>\n",
              "    <tr>\n",
              "      <th>2</th>\n",
              "      <td>3.2</td>\n",
              "      <td>27</td>\n",
              "    </tr>\n",
              "    <tr>\n",
              "      <th>3</th>\n",
              "      <td>8.5</td>\n",
              "      <td>75</td>\n",
              "    </tr>\n",
              "    <tr>\n",
              "      <th>4</th>\n",
              "      <td>3.5</td>\n",
              "      <td>30</td>\n",
              "    </tr>\n",
              "  </tbody>\n",
              "</table>\n",
              "</div>"
            ],
            "text/plain": [
              "   Hours  Scores\n",
              "0    2.5      21\n",
              "1    5.1      47\n",
              "2    3.2      27\n",
              "3    8.5      75\n",
              "4    3.5      30"
            ]
          },
          "metadata": {
            "tags": []
          },
          "execution_count": 2
        }
      ]
    },
    {
      "cell_type": "markdown",
      "metadata": {
        "id": "sofj9266BHVB",
        "colab_type": "text"
      },
      "source": [
        "#Checking the General information about data set"
      ]
    },
    {
      "cell_type": "code",
      "metadata": {
        "id": "WC4Vta13A7MO",
        "colab_type": "code",
        "colab": {
          "base_uri": "https://localhost:8080/",
          "height": 183
        },
        "outputId": "ab77d3cd-1801-4aa6-bf6f-54b740855e48"
      },
      "source": [
        "data.info()"
      ],
      "execution_count": 3,
      "outputs": [
        {
          "output_type": "stream",
          "text": [
            "<class 'pandas.core.frame.DataFrame'>\n",
            "RangeIndex: 25 entries, 0 to 24\n",
            "Data columns (total 2 columns):\n",
            " #   Column  Non-Null Count  Dtype  \n",
            "---  ------  --------------  -----  \n",
            " 0   Hours   25 non-null     float64\n",
            " 1   Scores  25 non-null     int64  \n",
            "dtypes: float64(1), int64(1)\n",
            "memory usage: 528.0 bytes\n"
          ],
          "name": "stdout"
        }
      ]
    },
    {
      "cell_type": "code",
      "metadata": {
        "id": "duSwPAdpBYil",
        "colab_type": "code",
        "colab": {
          "base_uri": "https://localhost:8080/",
          "height": 72
        },
        "outputId": "94729cf5-5ad8-491d-e5a7-09389f36e264"
      },
      "source": [
        "data.isnull().sum()"
      ],
      "execution_count": 4,
      "outputs": [
        {
          "output_type": "execute_result",
          "data": {
            "text/plain": [
              "Hours     0\n",
              "Scores    0\n",
              "dtype: int64"
            ]
          },
          "metadata": {
            "tags": []
          },
          "execution_count": 4
        }
      ]
    },
    {
      "cell_type": "markdown",
      "metadata": {
        "id": "qfVqesTXcfjw",
        "colab_type": "text"
      },
      "source": [
        "#Checking general stastitics"
      ]
    },
    {
      "cell_type": "code",
      "metadata": {
        "id": "gjB5NbIdcdzc",
        "colab_type": "code",
        "colab": {
          "base_uri": "https://localhost:8080/",
          "height": 300
        },
        "outputId": "85293edd-aae8-478c-a903-53255ff3a274"
      },
      "source": [
        "data.describe()"
      ],
      "execution_count": 5,
      "outputs": [
        {
          "output_type": "execute_result",
          "data": {
            "text/html": [
              "<div>\n",
              "<style scoped>\n",
              "    .dataframe tbody tr th:only-of-type {\n",
              "        vertical-align: middle;\n",
              "    }\n",
              "\n",
              "    .dataframe tbody tr th {\n",
              "        vertical-align: top;\n",
              "    }\n",
              "\n",
              "    .dataframe thead th {\n",
              "        text-align: right;\n",
              "    }\n",
              "</style>\n",
              "<table border=\"1\" class=\"dataframe\">\n",
              "  <thead>\n",
              "    <tr style=\"text-align: right;\">\n",
              "      <th></th>\n",
              "      <th>Hours</th>\n",
              "      <th>Scores</th>\n",
              "    </tr>\n",
              "  </thead>\n",
              "  <tbody>\n",
              "    <tr>\n",
              "      <th>count</th>\n",
              "      <td>25.000000</td>\n",
              "      <td>25.000000</td>\n",
              "    </tr>\n",
              "    <tr>\n",
              "      <th>mean</th>\n",
              "      <td>5.012000</td>\n",
              "      <td>51.480000</td>\n",
              "    </tr>\n",
              "    <tr>\n",
              "      <th>std</th>\n",
              "      <td>2.525094</td>\n",
              "      <td>25.286887</td>\n",
              "    </tr>\n",
              "    <tr>\n",
              "      <th>min</th>\n",
              "      <td>1.100000</td>\n",
              "      <td>17.000000</td>\n",
              "    </tr>\n",
              "    <tr>\n",
              "      <th>25%</th>\n",
              "      <td>2.700000</td>\n",
              "      <td>30.000000</td>\n",
              "    </tr>\n",
              "    <tr>\n",
              "      <th>50%</th>\n",
              "      <td>4.800000</td>\n",
              "      <td>47.000000</td>\n",
              "    </tr>\n",
              "    <tr>\n",
              "      <th>75%</th>\n",
              "      <td>7.400000</td>\n",
              "      <td>75.000000</td>\n",
              "    </tr>\n",
              "    <tr>\n",
              "      <th>max</th>\n",
              "      <td>9.200000</td>\n",
              "      <td>95.000000</td>\n",
              "    </tr>\n",
              "  </tbody>\n",
              "</table>\n",
              "</div>"
            ],
            "text/plain": [
              "           Hours     Scores\n",
              "count  25.000000  25.000000\n",
              "mean    5.012000  51.480000\n",
              "std     2.525094  25.286887\n",
              "min     1.100000  17.000000\n",
              "25%     2.700000  30.000000\n",
              "50%     4.800000  47.000000\n",
              "75%     7.400000  75.000000\n",
              "max     9.200000  95.000000"
            ]
          },
          "metadata": {
            "tags": []
          },
          "execution_count": 5
        }
      ]
    },
    {
      "cell_type": "markdown",
      "metadata": {
        "id": "hUO_K_YZdjRD",
        "colab_type": "text"
      },
      "source": [
        "#Visualizing the distribution of data"
      ]
    },
    {
      "cell_type": "code",
      "metadata": {
        "id": "LjRNeeSocx6A",
        "colab_type": "code",
        "colab": {
          "base_uri": "https://localhost:8080/",
          "height": 621
        },
        "outputId": "7312631b-fce5-4f71-9270-4ddf425dbbb0"
      },
      "source": [
        "fig = plt.figure(figsize=(18,10))\n",
        "\n",
        "s1 = fig.add_subplot(121)\n",
        "s2 = fig.add_subplot(122)\n",
        "\n",
        "s1.set_title('Hours Distribution')\n",
        "s2.set_title('Scores Distribution')\n",
        "\n",
        "g1 = sns.distplot(data['Hours'] , label='Hours' , ax=s1 , color='green')\n",
        "\n",
        "g2 = sns.distplot(data['Scores'] , label='Scores' , ax=s2 , color='seagreen')\n",
        "\n",
        "g1.legend()\n",
        "g2.legend()\n",
        "\n",
        "plt.show()\n"
      ],
      "execution_count": 6,
      "outputs": [
        {
          "output_type": "display_data",
          "data": {
            "image/png": "[encoded data removed]",
            "text/plain": [
              "<Figure size 1296x720 with 2 Axes>"
            ]
          },
          "metadata": {
            "tags": [],
            "needs_background": "light"
          }
        }
      ]
    },
    {
      "cell_type": "markdown",
      "metadata": {
        "id": "L6ZLduIlfe0o",
        "colab_type": "text"
      },
      "source": [
        "#Visualizing the realation between variable"
      ]
    },
    {
      "cell_type": "code",
      "metadata": {
        "id": "HZtq0JnqfMwF",
        "colab_type": "code",
        "colab": {
          "base_uri": "https://localhost:8080/",
          "height": 497
        },
        "outputId": "69464eaa-ce2f-463b-f27d-e1f5389a413a"
      },
      "source": [
        "plt.figure(figsize=(8,8))\n",
        "sns.regplot(data['Hours'] , data['Scores'] , color='red')\n",
        "plt.show()"
      ],
      "execution_count": 7,
      "outputs": [
        {
          "output_type": "display_data",
          "data": {
            "image/png": "[encoded data removed]",
            "text/plain": [
              "<Figure size 576x576 with 1 Axes>"
            ]
          },
          "metadata": {
            "tags": [],
            "needs_background": "light"
          }
        }
      ]
    },
    {
      "cell_type": "code",
      "metadata": {
        "id": "MWp9Yn8oftEz",
        "colab_type": "code",
        "colab": {
          "base_uri": "https://localhost:8080/",
          "height": 378
        },
        "outputId": "bd680c3e-9403-4a36-d176-d5a31b9a0722"
      },
      "source": [
        "plt.figure(figsize=(8,6))\n",
        "corr=data.corr()\n",
        "sns.heatmap(corr)\n",
        "plt.show()"
      ],
      "execution_count": 8,
      "outputs": [
        {
          "output_type": "display_data",
          "data": {
            "image/png": "[encoded data removed]",
            "text/plain": [
              "<Figure size 576x432 with 2 Axes>"
            ]
          },
          "metadata": {
            "tags": [],
            "needs_background": "light"
          }
        }
      ]
    },
    {
      "cell_type": "markdown",
      "metadata": {
        "id": "GSwDgP5jhb2O",
        "colab_type": "text"
      },
      "source": [
        "#Segragating dependent and independent variable"
      ]
    },
    {
      "cell_type": "code",
      "metadata": {
        "id": "zHAYnCw5gTE8",
        "colab_type": "code",
        "colab": {}
      },
      "source": [
        "x = data.iloc[: ,:-1].values\n",
        "y = data.iloc[: ,1 ].values"
      ],
      "execution_count": 9,
      "outputs": []
    },
    {
      "cell_type": "markdown",
      "metadata": {
        "id": "xNw18hkPhu8y",
        "colab_type": "text"
      },
      "source": [
        "#Spliting dataset into train and test dataset"
      ]
    },
    {
      "cell_type": "code",
      "metadata": {
        "id": "Kxbjq0aNhpZi",
        "colab_type": "code",
        "colab": {}
      },
      "source": [
        "from sklearn.model_selection import train_test_split"
      ],
      "execution_count": 10,
      "outputs": []
    },
    {
      "cell_type": "code",
      "metadata": {
        "id": "FvQAgiijh7TJ",
        "colab_type": "code",
        "colab": {}
      },
      "source": [
        "train_x, test_x , train_y , test_y = train_test_split(x , y , random_state=0 ,test_size=0.2 )"
      ],
      "execution_count": 11,
      "outputs": []
    },
    {
      "cell_type": "markdown",
      "metadata": {
        "id": "7iG-1b91ijMW",
        "colab_type": "text"
      },
      "source": [
        "#Linear Regression model"
      ]
    },
    {
      "cell_type": "code",
      "metadata": {
        "id": "0Ww0140NiPGN",
        "colab_type": "code",
        "colab": {
          "base_uri": "https://localhost:8080/",
          "height": 35
        },
        "outputId": "d5b8a52b-e032-45c4-962d-868d755b46f1"
      },
      "source": [
        "from sklearn.linear_model import LinearRegression\n",
        "Lreg = LinearRegression()\n",
        "Lreg.fit(train_x, train_y)"
      ],
      "execution_count": 12,
      "outputs": [
        {
          "output_type": "execute_result",
          "data": {
            "text/plain": [
              "LinearRegression(copy_X=True, fit_intercept=True, n_jobs=None, normalize=False)"
            ]
          },
          "metadata": {
            "tags": []
          },
          "execution_count": 12
        }
      ]
    },
    {
      "cell_type": "markdown",
      "metadata": {
        "id": "ZhxTiaOqi_w0",
        "colab_type": "text"
      },
      "source": [
        "#Making the prediction "
      ]
    },
    {
      "cell_type": "code",
      "metadata": {
        "id": "H4uUBbQiiyxE",
        "colab_type": "code",
        "colab": {}
      },
      "source": [
        "train_predict = Lreg.predict(train_x)\n",
        "test_predict = Lreg.predict(test_x)"
      ],
      "execution_count": 13,
      "outputs": []
    },
    {
      "cell_type": "markdown",
      "metadata": {
        "id": "i5C7h-_0jRFN",
        "colab_type": "text"
      },
      "source": [
        "#Checking the performance of the model using evaluation matrix"
      ]
    },
    {
      "cell_type": "code",
      "metadata": {
        "id": "ejdjNH6NjPNw",
        "colab_type": "code",
        "colab": {
          "base_uri": "https://localhost:8080/",
          "height": 183
        },
        "outputId": "614b0a5e-81b9-49aa-83a6-ff2727cb9a30"
      },
      "source": [
        "from sklearn.metrics import mean_absolute_error as mse\n",
        "s1 = mse(train_y , train_predict)\n",
        "s2 = np.sqrt(mse(train_y , train_predict))\n",
        "\n",
        "score1 = mse(test_y , test_predict)\n",
        "score2 = np.sqrt(mse(test_y , test_predict))\n",
        "print(\"=======train dataset========\")\n",
        "print(\"Mean squared error: \" , s1.round(3))\n",
        "print(\"Root mean squared error: \" ,s2.round(3))\n",
        "\n",
        "\n",
        "print(\"=======Test dataset===========\")\n",
        "print(\"Mean squared error: \" , score1.round(3))\n",
        "print(\"Root mean squared error: \" ,score2.round(3))\n",
        "\n",
        "print(\"============================\")\n",
        "print(\"Train score: \" , Lreg.score(train_x , train_y))\n",
        "print(\"Test score: \" ,Lreg.score(test_x , test_y))\n"
      ],
      "execution_count": 14,
      "outputs": [
        {
          "output_type": "stream",
          "text": [
            "=======train dataset========\n",
            "Mean squared error:  5.187\n",
            "Root mean squared error:  2.277\n",
            "=======Test dataset===========\n",
            "Mean squared error:  4.184\n",
            "Root mean squared error:  2.045\n",
            "============================\n",
            "Train score:  0.9515510725211553\n",
            "Test score:  0.9454906892105354\n"
          ],
          "name": "stdout"
        }
      ]
    },
    {
      "cell_type": "markdown",
      "metadata": {
        "id": "OXvwFUy5srwi",
        "colab_type": "text"
      },
      "source": [
        "#Comparing actual values and predicted values"
      ]
    },
    {
      "cell_type": "code",
      "metadata": {
        "id": "tLMrziamjiHt",
        "colab_type": "code",
        "colab": {
          "base_uri": "https://localhost:8080/",
          "height": 206
        },
        "outputId": "9108375f-97c6-41ed-fee7-b85ff9c28b3a"
      },
      "source": [
        "Compare = pd.DataFrame({'Actual' : test_y , 'predicted':test_predict , 'Deviation' : abs(test_y - test_predict)})\n",
        "Compare.head()"
      ],
      "execution_count": 15,
      "outputs": [
        {
          "output_type": "execute_result",
          "data": {
            "text/html": [
              "<div>\n",
              "<style scoped>\n",
              "    .dataframe tbody tr th:only-of-type {\n",
              "        vertical-align: middle;\n",
              "    }\n",
              "\n",
              "    .dataframe tbody tr th {\n",
              "        vertical-align: top;\n",
              "    }\n",
              "\n",
              "    .dataframe thead th {\n",
              "        text-align: right;\n",
              "    }\n",
              "</style>\n",
              "<table border=\"1\" class=\"dataframe\">\n",
              "  <thead>\n",
              "    <tr style=\"text-align: right;\">\n",
              "      <th></th>\n",
              "      <th>Actual</th>\n",
              "      <th>predicted</th>\n",
              "      <th>Deviation</th>\n",
              "    </tr>\n",
              "  </thead>\n",
              "  <tbody>\n",
              "    <tr>\n",
              "      <th>0</th>\n",
              "      <td>20</td>\n",
              "      <td>16.884145</td>\n",
              "      <td>3.115855</td>\n",
              "    </tr>\n",
              "    <tr>\n",
              "      <th>1</th>\n",
              "      <td>27</td>\n",
              "      <td>33.732261</td>\n",
              "      <td>6.732261</td>\n",
              "    </tr>\n",
              "    <tr>\n",
              "      <th>2</th>\n",
              "      <td>69</td>\n",
              "      <td>75.357018</td>\n",
              "      <td>6.357018</td>\n",
              "    </tr>\n",
              "    <tr>\n",
              "      <th>3</th>\n",
              "      <td>30</td>\n",
              "      <td>26.794801</td>\n",
              "      <td>3.205199</td>\n",
              "    </tr>\n",
              "    <tr>\n",
              "      <th>4</th>\n",
              "      <td>62</td>\n",
              "      <td>60.491033</td>\n",
              "      <td>1.508967</td>\n",
              "    </tr>\n",
              "  </tbody>\n",
              "</table>\n",
              "</div>"
            ],
            "text/plain": [
              "   Actual  predicted  Deviation\n",
              "0      20  16.884145   3.115855\n",
              "1      27  33.732261   6.732261\n",
              "2      69  75.357018   6.357018\n",
              "3      30  26.794801   3.205199\n",
              "4      62  60.491033   1.508967"
            ]
          },
          "metadata": {
            "tags": []
          },
          "execution_count": 15
        }
      ]
    },
    {
      "cell_type": "markdown",
      "metadata": {
        "id": "nDx78XiwJGiY",
        "colab_type": "text"
      },
      "source": [
        "#Deviation in the Predicted value"
      ]
    },
    {
      "cell_type": "code",
      "metadata": {
        "id": "meN_StnytAvT",
        "colab_type": "code",
        "colab": {
          "base_uri": "https://localhost:8080/",
          "height": 497
        },
        "outputId": "068d7d95-b6c2-4847-89e0-014fd21a3875"
      },
      "source": [
        "plt.figure(figsize=(10,8))\n",
        "sns.regplot('predicted' ,'Actual' , data=Compare , line_kws={'color':'seagreen'} , scatter_kws={'color' : 'red'})\n",
        "plt.show()"
      ],
      "execution_count": 16,
      "outputs": [
        {
          "output_type": "display_data",
          "data": {
            "image/png": "[encoded data removed]",
            "text/plain": [
              "<Figure size 720x576 with 1 Axes>"
            ]
          },
          "metadata": {
            "tags": [],
            "needs_background": "light"
          }
        }
      ]
    },
    {
      "cell_type": "markdown",
      "metadata": {
        "id": "gfvRGmkvpLyQ",
        "colab_type": "text"
      },
      "source": [
        "#Ridge Regression\n",
        "\n",
        "\n"
      ]
    },
    {
      "cell_type": "code",
      "metadata": {
        "id": "w8Z5HXCYGXL3",
        "colab_type": "code",
        "colab": {
          "base_uri": "https://localhost:8080/",
          "height": 54
        },
        "outputId": "f9c1e067-879b-4db4-a66a-97edc1c265ca"
      },
      "source": [
        "from sklearn.linear_model import Ridge\n",
        "ridge = Ridge(alpha=0.05 , normalize=True)\n",
        "ridge.fit(train_x, train_y)"
      ],
      "execution_count": 17,
      "outputs": [
        {
          "output_type": "execute_result",
          "data": {
            "text/plain": [
              "Ridge(alpha=0.05, copy_X=True, fit_intercept=True, max_iter=None,\n",
              "      normalize=True, random_state=None, solver='auto', tol=0.001)"
            ]
          },
          "metadata": {
            "tags": []
          },
          "execution_count": 17
        }
      ]
    },
    {
      "cell_type": "markdown",
      "metadata": {
        "id": "COe-fiaVIWJQ",
        "colab_type": "text"
      },
      "source": [
        "#Making Predictions"
      ]
    },
    {
      "cell_type": "code",
      "metadata": {
        "id": "QXakzTXtH0Mx",
        "colab_type": "code",
        "colab": {}
      },
      "source": [
        "train_predited1 = ridge.predict(train_x)\n",
        "test_predicted1 = ridge.predict(test_x)"
      ],
      "execution_count": 18,
      "outputs": []
    },
    {
      "cell_type": "markdown",
      "metadata": {
        "id": "NOpiUrtPIo7e",
        "colab_type": "text"
      },
      "source": [
        "#Checking the performance of the model"
      ]
    },
    {
      "cell_type": "code",
      "metadata": {
        "id": "8YW9YRKMIk2q",
        "colab_type": "code",
        "colab": {
          "base_uri": "https://localhost:8080/",
          "height": 183
        },
        "outputId": "eb72a0cc-9e4b-47c6-bd35-a97eace7d6cf"
      },
      "source": [
        "s1 = mse(train_y , train_predited1)\n",
        "s2 = np.sqrt(mse(train_y , train_predited1))\n",
        "\n",
        "score1 = mse(test_y , test_predicted1)\n",
        "score2 = np.sqrt(mse(test_y , test_predicted1))\n",
        "print(\"=======train dataset========\")\n",
        "print(\"Mean squared error: \" , s1.round(3))\n",
        "print(\"Root mean squared error: \" ,s2.round(3))\n",
        "\n",
        "\n",
        "print(\"=======Test dataset===========\")\n",
        "print(\"Mean squared error: \" , score1.round(3))\n",
        "print(\"Root mean squared error: \" ,score2.round(3))\n",
        "print(\"==========================================\")\n",
        "print(\"Train score: \" , ridge.score(train_x , train_y))\n",
        "print(\"Test score: \" ,ridge.score(test_x , test_y))"
      ],
      "execution_count": 19,
      "outputs": [
        {
          "output_type": "stream",
          "text": [
            "=======train dataset========\n",
            "Mean squared error:  5.142\n",
            "Root mean squared error:  2.268\n",
            "=======Test dataset===========\n",
            "Mean squared error:  3.623\n",
            "Root mean squared error:  1.903\n",
            "==========================================\n",
            "Train score:  0.9493933603385677\n",
            "Test score:  0.9512929715485207\n"
          ],
          "name": "stdout"
        }
      ]
    },
    {
      "cell_type": "markdown",
      "metadata": {
        "id": "fvoxFtJLLD09",
        "colab_type": "text"
      },
      "source": [
        "#Comparing Actual and Predicted values"
      ]
    },
    {
      "cell_type": "code",
      "metadata": {
        "id": "71Kqvj6MJPbU",
        "colab_type": "code",
        "colab": {
          "base_uri": "https://localhost:8080/",
          "height": 206
        },
        "outputId": "55c9bc51-037c-41d8-f8c3-d30d5f015cc8"
      },
      "source": [
        "Compare1 = pd.DataFrame({'Actual' : test_y , 'predicted':test_predicted1 , 'Deviation' : abs(test_y - test_predicted1)})\n",
        "Compare1.head()"
      ],
      "execution_count": 20,
      "outputs": [
        {
          "output_type": "execute_result",
          "data": {
            "text/html": [
              "<div>\n",
              "<style scoped>\n",
              "    .dataframe tbody tr th:only-of-type {\n",
              "        vertical-align: middle;\n",
              "    }\n",
              "\n",
              "    .dataframe tbody tr th {\n",
              "        vertical-align: top;\n",
              "    }\n",
              "\n",
              "    .dataframe thead th {\n",
              "        text-align: right;\n",
              "    }\n",
              "</style>\n",
              "<table border=\"1\" class=\"dataframe\">\n",
              "  <thead>\n",
              "    <tr style=\"text-align: right;\">\n",
              "      <th></th>\n",
              "      <th>Actual</th>\n",
              "      <th>predicted</th>\n",
              "      <th>Deviation</th>\n",
              "    </tr>\n",
              "  </thead>\n",
              "  <tbody>\n",
              "    <tr>\n",
              "      <th>0</th>\n",
              "      <td>20</td>\n",
              "      <td>18.649185</td>\n",
              "      <td>1.350815</td>\n",
              "    </tr>\n",
              "    <tr>\n",
              "      <th>1</th>\n",
              "      <td>27</td>\n",
              "      <td>34.695010</td>\n",
              "      <td>7.695010</td>\n",
              "    </tr>\n",
              "    <tr>\n",
              "      <th>2</th>\n",
              "      <td>69</td>\n",
              "      <td>74.337636</td>\n",
              "      <td>5.337636</td>\n",
              "    </tr>\n",
              "    <tr>\n",
              "      <th>3</th>\n",
              "      <td>30</td>\n",
              "      <td>28.087906</td>\n",
              "      <td>1.912094</td>\n",
              "    </tr>\n",
              "    <tr>\n",
              "      <th>4</th>\n",
              "      <td>62</td>\n",
              "      <td>60.179556</td>\n",
              "      <td>1.820444</td>\n",
              "    </tr>\n",
              "  </tbody>\n",
              "</table>\n",
              "</div>"
            ],
            "text/plain": [
              "   Actual  predicted  Deviation\n",
              "0      20  18.649185   1.350815\n",
              "1      27  34.695010   7.695010\n",
              "2      69  74.337636   5.337636\n",
              "3      30  28.087906   1.912094\n",
              "4      62  60.179556   1.820444"
            ]
          },
          "metadata": {
            "tags": []
          },
          "execution_count": 20
        }
      ]
    },
    {
      "cell_type": "markdown",
      "metadata": {
        "id": "Fyf9usZDLVbk",
        "colab_type": "text"
      },
      "source": [
        "#Deviation from the Actual values"
      ]
    },
    {
      "cell_type": "code",
      "metadata": {
        "id": "5cNr9N9-LNyJ",
        "colab_type": "code",
        "colab": {
          "base_uri": "https://localhost:8080/",
          "height": 513
        },
        "outputId": "d046b841-b203-4fe6-a973-8347a68bc686"
      },
      "source": [
        "plt.figure(figsize=(10,8))\n",
        "sns.regplot('predicted' ,'Actual' , data=Compare1 , line_kws={'color':'seagreen'} , scatter_kws={'color' : 'red'})\n",
        "plt.title(\"Predited value v/s Actual value plot\")\n",
        "plt.show()"
      ],
      "execution_count": 21,
      "outputs": [
        {
          "output_type": "display_data",
          "data": {
            "image/png": "[encoded data removed]",
            "text/plain": [
              "<Figure size 720x576 with 1 Axes>"
            ]
          },
          "metadata": {
            "tags": [],
            "needs_background": "light"
          }
        }
      ]
    },
    {
      "cell_type": "markdown",
      "metadata": {
        "id": "8O4d9lksNGw8",
        "colab_type": "text"
      },
      "source": [
        "#LASSO Regression"
      ]
    },
    {
      "cell_type": "code",
      "metadata": {
        "id": "867swbETLbDP",
        "colab_type": "code",
        "colab": {
          "base_uri": "https://localhost:8080/",
          "height": 72
        },
        "outputId": "9927458d-cee7-4881-e946-d4ed8268f727"
      },
      "source": [
        "from sklearn.linear_model import Lasso\n",
        "lassoReg = Lasso(alpha=1 , normalize=True)\n",
        "lassoReg.fit(train_x, train_y)"
      ],
      "execution_count": 22,
      "outputs": [
        {
          "output_type": "execute_result",
          "data": {
            "text/plain": [
              "Lasso(alpha=1, copy_X=True, fit_intercept=True, max_iter=1000, normalize=True,\n",
              "      positive=False, precompute=False, random_state=None, selection='cyclic',\n",
              "      tol=0.0001, warm_start=False)"
            ]
          },
          "metadata": {
            "tags": []
          },
          "execution_count": 22
        }
      ]
    },
    {
      "cell_type": "markdown",
      "metadata": {
        "id": "sry7xi_cNsw9",
        "colab_type": "text"
      },
      "source": [
        "#Making the Predictions"
      ]
    },
    {
      "cell_type": "code",
      "metadata": {
        "id": "R2mYMmmaNQUK",
        "colab_type": "code",
        "colab": {}
      },
      "source": [
        "train_predited2 = lassoReg.predict(train_x)\n",
        "test_predicted2 = lassoReg.predict(test_x)"
      ],
      "execution_count": 23,
      "outputs": []
    },
    {
      "cell_type": "markdown",
      "metadata": {
        "id": "R7GThwdfN-xg",
        "colab_type": "text"
      },
      "source": [
        "#Checking the performance of the model"
      ]
    },
    {
      "cell_type": "code",
      "metadata": {
        "id": "OKdJXAy5N98s",
        "colab_type": "code",
        "colab": {
          "base_uri": "https://localhost:8080/",
          "height": 183
        },
        "outputId": "b68f4f67-c82c-4321-899e-f2fa121e399a"
      },
      "source": [
        "s1 = mse(train_y , train_predited2)\n",
        "s2 = np.sqrt(mse(train_y , train_predited2))\n",
        "\n",
        "score1 = mse(test_y , test_predicted2)\n",
        "score2 = np.sqrt(mse(test_y , test_predicted2))\n",
        "print(\"=======train dataset========\")\n",
        "print(\"Mean squared error: \" , s1.round(3))\n",
        "print(\"Root mean squared error: \" ,s2.round(3))\n",
        "\n",
        "\n",
        "print(\"=======Test dataset===========\")\n",
        "print(\"Mean squared error: \" , score1.round(3))\n",
        "print(\"Root mean squared error: \" ,score2.round(3))\n",
        "print(\"==========================================\")\n",
        "print(\"Train score: \" , lassoReg.score(train_x , train_y))\n",
        "print(\"Test score: \" ,lassoReg.score(test_x , test_y))"
      ],
      "execution_count": 24,
      "outputs": [
        {
          "output_type": "stream",
          "text": [
            "=======train dataset========\n",
            "Mean squared error:  6.391\n",
            "Root mean squared error:  2.528\n",
            "=======Test dataset===========\n",
            "Mean squared error:  4.182\n",
            "Root mean squared error:  2.045\n",
            "==========================================\n",
            "Train score:  0.9201906987054994\n",
            "Test score:  0.9305378192158947\n"
          ],
          "name": "stdout"
        }
      ]
    },
    {
      "cell_type": "markdown",
      "metadata": {
        "id": "n-tWROSfthPd",
        "colab_type": "text"
      },
      "source": [
        "#Comparing the actual and predicted values"
      ]
    },
    {
      "cell_type": "code",
      "metadata": {
        "id": "9Xg-LFlrOPEi",
        "colab_type": "code",
        "colab": {
          "base_uri": "https://localhost:8080/",
          "height": 206
        },
        "outputId": "87c64519-4796-4fad-894b-8389cc03f06d"
      },
      "source": [
        "Compare1 = pd.DataFrame({'Actual' : test_y , 'predicted':test_predicted2 , 'Deviation' : abs(test_y - test_predicted2)})\n",
        "Compare1.head()"
      ],
      "execution_count": 26,
      "outputs": [
        {
          "output_type": "execute_result",
          "data": {
            "text/html": [
              "<div>\n",
              "<style scoped>\n",
              "    .dataframe tbody tr th:only-of-type {\n",
              "        vertical-align: middle;\n",
              "    }\n",
              "\n",
              "    .dataframe tbody tr th {\n",
              "        vertical-align: top;\n",
              "    }\n",
              "\n",
              "    .dataframe thead th {\n",
              "        text-align: right;\n",
              "    }\n",
              "</style>\n",
              "<table border=\"1\" class=\"dataframe\">\n",
              "  <thead>\n",
              "    <tr style=\"text-align: right;\">\n",
              "      <th></th>\n",
              "      <th>Actual</th>\n",
              "      <th>predicted</th>\n",
              "      <th>Deviation</th>\n",
              "    </tr>\n",
              "  </thead>\n",
              "  <tbody>\n",
              "    <tr>\n",
              "      <th>0</th>\n",
              "      <td>20</td>\n",
              "      <td>23.613115</td>\n",
              "      <td>3.613115</td>\n",
              "    </tr>\n",
              "    <tr>\n",
              "      <th>1</th>\n",
              "      <td>27</td>\n",
              "      <td>37.402608</td>\n",
              "      <td>10.402608</td>\n",
              "    </tr>\n",
              "    <tr>\n",
              "      <th>2</th>\n",
              "      <td>69</td>\n",
              "      <td>71.470768</td>\n",
              "      <td>2.470768</td>\n",
              "    </tr>\n",
              "    <tr>\n",
              "      <th>3</th>\n",
              "      <td>30</td>\n",
              "      <td>31.724581</td>\n",
              "      <td>1.724581</td>\n",
              "    </tr>\n",
              "    <tr>\n",
              "      <th>4</th>\n",
              "      <td>62</td>\n",
              "      <td>59.303568</td>\n",
              "      <td>2.696432</td>\n",
              "    </tr>\n",
              "  </tbody>\n",
              "</table>\n",
              "</div>"
            ],
            "text/plain": [
              "   Actual  predicted  Deviation\n",
              "0      20  23.613115   3.613115\n",
              "1      27  37.402608  10.402608\n",
              "2      69  71.470768   2.470768\n",
              "3      30  31.724581   1.724581\n",
              "4      62  59.303568   2.696432"
            ]
          },
          "metadata": {
            "tags": []
          },
          "execution_count": 26
        }
      ]
    },
    {
      "cell_type": "markdown",
      "metadata": {
        "id": "WUV_Iswbt12X",
        "colab_type": "text"
      },
      "source": [
        "#Deviation from actual values"
      ]
    },
    {
      "cell_type": "code",
      "metadata": {
        "id": "QnSwIbPZtvGJ",
        "colab_type": "code",
        "colab": {
          "base_uri": "https://localhost:8080/",
          "height": 513
        },
        "outputId": "1bd353b7-2c1a-4683-e2dd-4de1a78d085d"
      },
      "source": [
        "plt.figure(figsize=(10,8))\n",
        "sns.regplot('predicted' ,'Actual' , data=Compare1 , line_kws={'color':'seagreen'} , scatter_kws={'color' : 'red'})\n",
        "plt.title(\"Predited value v/s Actual value plot\")\n",
        "plt.show()"
      ],
      "execution_count": 27,
      "outputs": [
        {
          "output_type": "display_data",
          "data": {
            "image/png": "[encoded data removed]",
            "text/plain": [
              "<Figure size 720x576 with 1 Axes>"
            ]
          },
          "metadata": {
            "tags": [],
            "needs_background": "light"
          }
        }
      ]
    },
    {
      "cell_type": "markdown",
      "metadata": {
        "id": "YqJks5AhuMC-",
        "colab_type": "text"
      },
      "source": [
        "#Elastic Net Regression"
      ]
    },
    {
      "cell_type": "code",
      "metadata": {
        "id": "M0sACqqsuAS-",
        "colab_type": "code",
        "colab": {
          "base_uri": "https://localhost:8080/",
          "height": 72
        },
        "outputId": "1d8b6282-afdf-4123-9ca9-ee7bd2f9cfc0"
      },
      "source": [
        "from sklearn.linear_model import ElasticNet\n",
        "ENreg = ElasticNet(alpha=0.05, l1_ratio=0.5, normalize=False)\n",
        "ENreg.fit(train_x, train_y)\n"
      ],
      "execution_count": 38,
      "outputs": [
        {
          "output_type": "execute_result",
          "data": {
            "text/plain": [
              "ElasticNet(alpha=0.05, copy_X=True, fit_intercept=True, l1_ratio=0.5,\n",
              "           max_iter=1000, normalize=False, positive=False, precompute=False,\n",
              "           random_state=None, selection='cyclic', tol=0.0001, warm_start=False)"
            ]
          },
          "metadata": {
            "tags": []
          },
          "execution_count": 38
        }
      ]
    },
    {
      "cell_type": "markdown",
      "metadata": {
        "id": "TC79FekkvHb5",
        "colab_type": "text"
      },
      "source": [
        "#Making Predictions"
      ]
    },
    {
      "cell_type": "code",
      "metadata": {
        "id": "eUt0C48luTLV",
        "colab_type": "code",
        "colab": {}
      },
      "source": [
        "train_predited3 = ENreg.predict(train_x)\n",
        "test_predicted3 = ENreg.predict(test_x)"
      ],
      "execution_count": 40,
      "outputs": []
    },
    {
      "cell_type": "markdown",
      "metadata": {
        "id": "bxzb8ztqvWj7",
        "colab_type": "text"
      },
      "source": [
        "#Checking Performance of the model"
      ]
    },
    {
      "cell_type": "code",
      "metadata": {
        "id": "BoRYbAIXvQzr",
        "colab_type": "code",
        "colab": {
          "base_uri": "https://localhost:8080/",
          "height": 183
        },
        "outputId": "9eaf24d5-06b6-49af-fbf6-caa8f6253a67"
      },
      "source": [
        "s1 = mse(train_y , train_predited3)\n",
        "s2 = np.sqrt(mse(train_y , train_predited3))\n",
        "\n",
        "score1 = mse(test_y , test_predicted3)\n",
        "score2 = np.sqrt(mse(test_y , test_predicted3))\n",
        "print(\"=======train dataset========\")\n",
        "print(\"Mean squared error: \" , s1.round(3))\n",
        "print(\"Root mean squared error: \" ,s2.round(3))\n",
        "\n",
        "\n",
        "print(\"=======Test dataset===========\")\n",
        "print(\"Mean squared error: \" , score1.round(3))\n",
        "print(\"Root mean squared error: \" ,score2.round(3))\n",
        "print(\"==========================================\")\n",
        "print(\"Train score: \" , ENreg.score(train_x , train_y))\n",
        "print(\"Test score: \" ,ENreg.score(test_x , test_y))"
      ],
      "execution_count": 41,
      "outputs": [
        {
          "output_type": "stream",
          "text": [
            "=======train dataset========\n",
            "Mean squared error:  5.182\n",
            "Root mean squared error:  2.277\n",
            "=======Test dataset===========\n",
            "Mean squared error:  4.132\n",
            "Root mean squared error:  2.033\n",
            "==========================================\n",
            "Train score:  0.9515323420169796\n",
            "Test score:  0.9463234360286942\n"
          ],
          "name": "stdout"
        }
      ]
    },
    {
      "cell_type": "markdown",
      "metadata": {
        "id": "aop66XS_vtuz",
        "colab_type": "text"
      },
      "source": [
        "#Comparing the actual and predicted values"
      ]
    },
    {
      "cell_type": "code",
      "metadata": {
        "id": "uQ6FM3LevoGc",
        "colab_type": "code",
        "colab": {
          "base_uri": "https://localhost:8080/",
          "height": 206
        },
        "outputId": "538dc779-b48b-42e8-a5fd-ff3aa06b0881"
      },
      "source": [
        "Compare1 = pd.DataFrame({'Actual' : test_y , 'predicted':test_predicted3 , 'Deviation' : abs(test_y - test_predicted3)})\n",
        "Compare1.head()"
      ],
      "execution_count": 42,
      "outputs": [
        {
          "output_type": "execute_result",
          "data": {
            "text/html": [
              "<div>\n",
              "<style scoped>\n",
              "    .dataframe tbody tr th:only-of-type {\n",
              "        vertical-align: middle;\n",
              "    }\n",
              "\n",
              "    .dataframe tbody tr th {\n",
              "        vertical-align: top;\n",
              "    }\n",
              "\n",
              "    .dataframe thead th {\n",
              "        text-align: right;\n",
              "    }\n",
              "</style>\n",
              "<table border=\"1\" class=\"dataframe\">\n",
              "  <thead>\n",
              "    <tr style=\"text-align: right;\">\n",
              "      <th></th>\n",
              "      <th>Actual</th>\n",
              "      <th>predicted</th>\n",
              "      <th>Deviation</th>\n",
              "    </tr>\n",
              "  </thead>\n",
              "  <tbody>\n",
              "    <tr>\n",
              "      <th>0</th>\n",
              "      <td>20</td>\n",
              "      <td>17.048594</td>\n",
              "      <td>2.951406</td>\n",
              "    </tr>\n",
              "    <tr>\n",
              "      <th>1</th>\n",
              "      <td>27</td>\n",
              "      <td>33.821961</td>\n",
              "      <td>6.821961</td>\n",
              "    </tr>\n",
              "    <tr>\n",
              "      <th>2</th>\n",
              "      <td>69</td>\n",
              "      <td>75.262042</td>\n",
              "      <td>6.262042</td>\n",
              "    </tr>\n",
              "    <tr>\n",
              "      <th>3</th>\n",
              "      <td>30</td>\n",
              "      <td>26.915280</td>\n",
              "      <td>3.084720</td>\n",
              "    </tr>\n",
              "    <tr>\n",
              "      <th>4</th>\n",
              "      <td>62</td>\n",
              "      <td>60.462013</td>\n",
              "      <td>1.537987</td>\n",
              "    </tr>\n",
              "  </tbody>\n",
              "</table>\n",
              "</div>"
            ],
            "text/plain": [
              "   Actual  predicted  Deviation\n",
              "0      20  17.048594   2.951406\n",
              "1      27  33.821961   6.821961\n",
              "2      69  75.262042   6.262042\n",
              "3      30  26.915280   3.084720\n",
              "4      62  60.462013   1.537987"
            ]
          },
          "metadata": {
            "tags": []
          },
          "execution_count": 42
        }
      ]
    },
    {
      "cell_type": "markdown",
      "metadata": {
        "id": "ZWaFzOVzv_-4",
        "colab_type": "text"
      },
      "source": [
        "#Deviation in the actual values"
      ]
    },
    {
      "cell_type": "code",
      "metadata": {
        "id": "q7FWaZc6v6OL",
        "colab_type": "code",
        "colab": {
          "base_uri": "https://localhost:8080/",
          "height": 513
        },
        "outputId": "1f68a779-095c-4dcd-8e14-14e3b1e1596f"
      },
      "source": [
        "plt.figure(figsize=(10,8))\n",
        "sns.regplot('predicted' ,'Actual' , data=Compare1 , line_kws={'color':'seagreen'} , scatter_kws={'color' : 'red'})\n",
        "plt.title(\"Predited value v/s Actual value plot\")\n",
        "plt.show()"
      ],
      "execution_count": 43,
      "outputs": [
        {
          "output_type": "display_data",
          "data": {
            "image/png": "[encoded data removed]",
            "text/plain": [
              "<Figure size 720x576 with 1 Axes>"
            ]
          },
          "metadata": {
            "tags": [],
            "needs_background": "light"
          }
        }
      ]
    },
    {
      "cell_type": "markdown",
      "metadata": {
        "id": "y780Vh9o9fYO",
        "colab_type": "text"
      },
      "source": [
        "#Comparing the model"
      ]
    },
    {
      "cell_type": "code",
      "metadata": {
        "id": "7CXrGT-XwKzw",
        "colab_type": "code",
        "colab": {
          "base_uri": "https://localhost:8080/",
          "height": 112
        },
        "outputId": "99ca847a-14c1-43c8-8e99-547a82c03a4b"
      },
      "source": [
        "Compare_model = pd.DataFrame({'Linear Regression' : {\n",
        "    'test_score':Lreg.score(test_x , test_y),\n",
        "    'train_score':Lreg.score(train_x , train_y)\n",
        "} ,'Ridge Regression':{\n",
        "    'test_score':ridge.score(test_x,test_y),\n",
        "    'train_score':ridge.score(train_x,train_y)\n",
        "},'Lasso Regression':{\n",
        "    'test_score':lassoReg.score(test_x, test_y),\n",
        "    'train_score':lassoReg.score(train_x,train_y)\n",
        "},'Elastic Net':{\n",
        "    'test_score':ENreg.score(test_x , test_y),\n",
        "    'train_score':ENreg.score(train_x , train_y)\n",
        "}})\n",
        "Compare_model.head()"
      ],
      "execution_count": 46,
      "outputs": [
        {
          "output_type": "execute_result",
          "data": {
            "text/html": [
              "<div>\n",
              "<style scoped>\n",
              "    .dataframe tbody tr th:only-of-type {\n",
              "        vertical-align: middle;\n",
              "    }\n",
              "\n",
              "    .dataframe tbody tr th {\n",
              "        vertical-align: top;\n",
              "    }\n",
              "\n",
              "    .dataframe thead th {\n",
              "        text-align: right;\n",
              "    }\n",
              "</style>\n",
              "<table border=\"1\" class=\"dataframe\">\n",
              "  <thead>\n",
              "    <tr style=\"text-align: right;\">\n",
              "      <th></th>\n",
              "      <th>Linear Regression</th>\n",
              "      <th>Ridge Regression</th>\n",
              "      <th>Lasso Regression</th>\n",
              "      <th>Elastic Net</th>\n",
              "    </tr>\n",
              "  </thead>\n",
              "  <tbody>\n",
              "    <tr>\n",
              "      <th>test_score</th>\n",
              "      <td>0.945491</td>\n",
              "      <td>0.951293</td>\n",
              "      <td>0.930538</td>\n",
              "      <td>0.946323</td>\n",
              "    </tr>\n",
              "    <tr>\n",
              "      <th>train_score</th>\n",
              "      <td>0.951551</td>\n",
              "      <td>0.949393</td>\n",
              "      <td>0.920191</td>\n",
              "      <td>0.951532</td>\n",
              "    </tr>\n",
              "  </tbody>\n",
              "</table>\n",
              "</div>"
            ],
            "text/plain": [
              "             Linear Regression  Ridge Regression  Lasso Regression  Elastic Net\n",
              "test_score            0.945491          0.951293          0.930538     0.946323\n",
              "train_score           0.951551          0.949393          0.920191     0.951532"
            ]
          },
          "metadata": {
            "tags": []
          },
          "execution_count": 46
        }
      ]
    },
    {
      "cell_type": "markdown",
      "metadata": {
        "id": "0hzph5pvADUb",
        "colab_type": "text"
      },
      "source": [
        "As we can see performance of Ridge regression model is better on the data set.\n"
      ]
    },
    {
      "cell_type": "code",
      "metadata": {
        "id": "ddafaR3Y_eY9",
        "colab_type": "code",
        "colab": {
          "base_uri": "https://localhost:8080/",
          "height": 54
        },
        "outputId": "6e81d276-1f38-4413-bd51-31178a550e3c"
      },
      "source": [
        "n=float(input(\"Enter the value of Hours\"))\n",
        "result=ridge.predict([[n]])\n",
        "print(\"After studying for {} hours, The Expected Score Should be {}\".format(n,result.round(2)))"
      ],
      "execution_count": 47,
      "outputs": [
        {
          "output_type": "stream",
          "text": [
            "Enter the value of Hours9.25\n",
            "After studying for 9.25 hours, The Expected Score Should be [91.8]\n"
          ],
          "name": "stdout"
        }
      ]
    },
    {
      "cell_type": "code",
      "metadata": {
        "id": "JbuUlgm6Cq6r",
        "colab_type": "code",
        "colab": {}
      },
      "source": [
        ""
      ],
      "execution_count": null,
      "outputs": []
    }
  ]
}